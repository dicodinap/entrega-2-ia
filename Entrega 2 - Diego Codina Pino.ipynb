{
  "nbformat": 4,
  "nbformat_minor": 0,
  "metadata": {
    "colab": {
      "provenance": [],
      "collapsed_sections": [
        "PfgSCq6FpdJ1"
      ]
    },
    "kernelspec": {
      "name": "python3",
      "display_name": "Python 3"
    },
    "language_info": {
      "name": "python"
    }
  },
  "cells": [
    {
      "cell_type": "code",
      "execution_count": null,
      "metadata": {
        "colab": {
          "base_uri": "https://localhost:8080/"
        },
        "id": "t2_Eu7zfcYUk",
        "outputId": "699a4aef-847f-4a5e-d37c-c7b5b416a4ad"
      },
      "outputs": [
        {
          "output_type": "stream",
          "name": "stdout",
          "text": [
            "--2025-05-16 00:58:18--  https://raw.githubusercontent.com/JaznaLaProfe/InteligenciaArtificial/main/data/dataset_regresion.csv\n",
            "Resolving raw.githubusercontent.com (raw.githubusercontent.com)... 185.199.108.133, 185.199.109.133, 185.199.110.133, ...\n",
            "Connecting to raw.githubusercontent.com (raw.githubusercontent.com)|185.199.108.133|:443... connected.\n",
            "HTTP request sent, awaiting response... 200 OK\n",
            "Length: 510280 (498K) [text/plain]\n",
            "Saving to: ‘dataset_regresion.csv.2’\n",
            "\n",
            "dataset_regresion.c 100%[===================>] 498.32K  --.-KB/s    in 0.05s   \n",
            "\n",
            "2025-05-16 00:58:18 (8.95 MB/s) - ‘dataset_regresion.csv.2’ saved [510280/510280]\n",
            "\n"
          ]
        }
      ],
      "source": [
        "!wget https://raw.githubusercontent.com/JaznaLaProfe/InteligenciaArtificial/main/data/dataset_regresion.csv\n",
        "\n",
        "import pandas as pd\n",
        "import numpy as np\n",
        "import matplotlib.pyplot as plt\n",
        "import seaborn as sns\n",
        "from sklearn.model_selection import train_test_split\n",
        "from sklearn.linear_model import LinearRegression\n",
        "from sklearn.tree import DecisionTreeRegressor\n",
        "from sklearn.ensemble import RandomForestRegressor\n",
        "from sklearn.metrics import mean_absolute_error, mean_squared_log_error, r2_score\n",
        "from sklearn.preprocessing import OrdinalEncoder\n",
        "\n",
        "\n",
        "import json"
      ]
    },
    {
      "cell_type": "markdown",
      "source": [
        "# Descripción del negocio"
      ],
      "metadata": {
        "id": "HhK9W4Gge3qe"
      }
    },
    {
      "cell_type": "markdown",
      "source": [
        "✅ **Nombre del negocio:** PeopleGrow Solutions\n",
        "\n",
        "✅ **Industria:** Consultoría de desarrollo organizacional y gestión de talento\n",
        "\n",
        "✅ **Objetivo del negocio:** Optimizar las estrategias de compensación salarial para mejorar la retención del talento y la satisfacción laboral, considerando múltiples factores del perfil de los empleados.\n",
        "\n",
        "**Antecedentes**\n",
        "\n",
        "PeopleGrow Solutions trabaja con empresas que buscan alinear sus políticas salariales con indicadores clave como nivel educativo, experiencia laboral, satisfacción de los empleados y modalidad de trabajo (presencial/remoto). La empresa ha recolectado datos sobre empleados de distintas áreas para entender qué factores están más fuertemente asociados con la variación en los salarios mensuales."
      ],
      "metadata": {
        "id": "YRtl11Dye6IH"
      }
    },
    {
      "cell_type": "markdown",
      "source": [
        "# Objetivo del proyecto"
      ],
      "metadata": {
        "id": "C5DqwsNafI9K"
      }
    },
    {
      "cell_type": "markdown",
      "source": [
        "Desarrollar un modelo de regresión que permita predecir el salario mensual de un empleado, basándose en perfil educativo, experiencia laboral, nivel de satisfacción, características del puesto y otras variables disponibles dentro del set de datos\n",
        "\n",
        "Esto permitirá:\n",
        "\n",
        "✅ Identificar brechas salariales entre departamentos o niveles educativos.\n",
        "\n",
        "✅ Diseñar políticas de compensación equitativas y competitivas.\n",
        "\n",
        "✅ Detectar factores críticos que contribuyen a una mayor remuneración.\n",
        "\n",
        "✅ Simular escenarios de promoción o cambio de modalidad de trabajo y su impacto salarial."
      ],
      "metadata": {
        "id": "MD1qYCIqfO33"
      }
    },
    {
      "cell_type": "markdown",
      "source": [
        "✔ ¿Existen diferencias salariales significativas entre empleados remotos y presenciales?"
      ],
      "metadata": {
        "id": "Tu5Xa9Weff3s"
      }
    },
    {
      "cell_type": "markdown",
      "source": [
        "# Fase 2 - Entendimiento de los datos"
      ],
      "metadata": {
        "id": "5nZNGBtOeYg5"
      }
    },
    {
      "cell_type": "code",
      "source": [
        "   df = pd.read_csv('dataset_regresion.csv')\n",
        "   df_final = df.drop(columns=['ID'])\n",
        "   df_final.head()\n",
        "   df_final.info()\n",
        "   df.describe()\n",
        "\n",
        "\n"
      ],
      "metadata": {
        "colab": {
          "base_uri": "https://localhost:8080/",
          "height": 561
        },
        "id": "t6nC3azpmA_M",
        "outputId": "c7881c3f-bc24-4b5a-db33-ffa965de7aed"
      },
      "execution_count": 59,
      "outputs": [
        {
          "output_type": "stream",
          "name": "stdout",
          "text": [
            "<class 'pandas.core.frame.DataFrame'>\n",
            "RangeIndex: 10000 entries, 0 to 9999\n",
            "Data columns (total 8 columns):\n",
            " #   Column                       Non-Null Count  Dtype  \n",
            "---  ------                       --------------  -----  \n",
            " 0   Edad                         10000 non-null  int64  \n",
            " 1   Nivel_Educativo              10000 non-null  object \n",
            " 2   Experiencia_Anios            10000 non-null  int64  \n",
            " 3   Departamento                 10000 non-null  object \n",
            " 4   Horas_Entrenamiento_Mensual  10000 non-null  int64  \n",
            " 5   Satisfaccion_Laboral         10000 non-null  object \n",
            " 6   Remoto                       10000 non-null  object \n",
            " 7   Salario_Mensual              10000 non-null  float64\n",
            "dtypes: float64(1), int64(3), object(4)\n",
            "memory usage: 625.1+ KB\n"
          ]
        },
        {
          "output_type": "execute_result",
          "data": {
            "text/plain": [
              "                ID          Edad  Experiencia_Anios  \\\n",
              "count  10000.00000  10000.000000        10000.00000   \n",
              "mean    5000.50000     41.557600           20.46160   \n",
              "std     2886.89568     13.749581           13.23976   \n",
              "min        1.00000     18.000000            0.00000   \n",
              "25%     2500.75000     30.000000            9.00000   \n",
              "50%     5000.50000     41.500000           20.00000   \n",
              "75%     7500.25000     53.000000           32.00000   \n",
              "max    10000.00000     65.000000           40.00000   \n",
              "\n",
              "       Horas_Entrenamiento_Mensual  Salario_Mensual  \n",
              "count                 10000.000000     10000.000000  \n",
              "mean                     10.000000      5764.693974  \n",
              "std                       3.183711      1659.896370  \n",
              "min                       0.000000      1773.680000  \n",
              "25%                       8.000000      4364.367500  \n",
              "50%                      10.000000      5788.975000  \n",
              "75%                      12.000000      7177.292500  \n",
              "max                      23.000000      9641.940000  "
            ],
            "text/html": [
              "\n",
              "  <div id=\"df-38e41376-9153-4aea-87b7-9d11754b091c\" class=\"colab-df-container\">\n",
              "    <div>\n",
              "<style scoped>\n",
              "    .dataframe tbody tr th:only-of-type {\n",
              "        vertical-align: middle;\n",
              "    }\n",
              "\n",
              "    .dataframe tbody tr th {\n",
              "        vertical-align: top;\n",
              "    }\n",
              "\n",
              "    .dataframe thead th {\n",
              "        text-align: right;\n",
              "    }\n",
              "</style>\n",
              "<table border=\"1\" class=\"dataframe\">\n",
              "  <thead>\n",
              "    <tr style=\"text-align: right;\">\n",
              "      <th></th>\n",
              "      <th>ID</th>\n",
              "      <th>Edad</th>\n",
              "      <th>Experiencia_Anios</th>\n",
              "      <th>Horas_Entrenamiento_Mensual</th>\n",
              "      <th>Salario_Mensual</th>\n",
              "    </tr>\n",
              "  </thead>\n",
              "  <tbody>\n",
              "    <tr>\n",
              "      <th>count</th>\n",
              "      <td>10000.00000</td>\n",
              "      <td>10000.000000</td>\n",
              "      <td>10000.00000</td>\n",
              "      <td>10000.000000</td>\n",
              "      <td>10000.000000</td>\n",
              "    </tr>\n",
              "    <tr>\n",
              "      <th>mean</th>\n",
              "      <td>5000.50000</td>\n",
              "      <td>41.557600</td>\n",
              "      <td>20.46160</td>\n",
              "      <td>10.000000</td>\n",
              "      <td>5764.693974</td>\n",
              "    </tr>\n",
              "    <tr>\n",
              "      <th>std</th>\n",
              "      <td>2886.89568</td>\n",
              "      <td>13.749581</td>\n",
              "      <td>13.23976</td>\n",
              "      <td>3.183711</td>\n",
              "      <td>1659.896370</td>\n",
              "    </tr>\n",
              "    <tr>\n",
              "      <th>min</th>\n",
              "      <td>1.00000</td>\n",
              "      <td>18.000000</td>\n",
              "      <td>0.00000</td>\n",
              "      <td>0.000000</td>\n",
              "      <td>1773.680000</td>\n",
              "    </tr>\n",
              "    <tr>\n",
              "      <th>25%</th>\n",
              "      <td>2500.75000</td>\n",
              "      <td>30.000000</td>\n",
              "      <td>9.00000</td>\n",
              "      <td>8.000000</td>\n",
              "      <td>4364.367500</td>\n",
              "    </tr>\n",
              "    <tr>\n",
              "      <th>50%</th>\n",
              "      <td>5000.50000</td>\n",
              "      <td>41.500000</td>\n",
              "      <td>20.00000</td>\n",
              "      <td>10.000000</td>\n",
              "      <td>5788.975000</td>\n",
              "    </tr>\n",
              "    <tr>\n",
              "      <th>75%</th>\n",
              "      <td>7500.25000</td>\n",
              "      <td>53.000000</td>\n",
              "      <td>32.00000</td>\n",
              "      <td>12.000000</td>\n",
              "      <td>7177.292500</td>\n",
              "    </tr>\n",
              "    <tr>\n",
              "      <th>max</th>\n",
              "      <td>10000.00000</td>\n",
              "      <td>65.000000</td>\n",
              "      <td>40.00000</td>\n",
              "      <td>23.000000</td>\n",
              "      <td>9641.940000</td>\n",
              "    </tr>\n",
              "  </tbody>\n",
              "</table>\n",
              "</div>\n",
              "    <div class=\"colab-df-buttons\">\n",
              "\n",
              "  <div class=\"colab-df-container\">\n",
              "    <button class=\"colab-df-convert\" onclick=\"convertToInteractive('df-38e41376-9153-4aea-87b7-9d11754b091c')\"\n",
              "            title=\"Convert this dataframe to an interactive table.\"\n",
              "            style=\"display:none;\">\n",
              "\n",
              "  <svg xmlns=\"http://www.w3.org/2000/svg\" height=\"24px\" viewBox=\"0 -960 960 960\">\n",
              "    <path d=\"M120-120v-720h720v720H120Zm60-500h600v-160H180v160Zm220 220h160v-160H400v160Zm0 220h160v-160H400v160ZM180-400h160v-160H180v160Zm440 0h160v-160H620v160ZM180-180h160v-160H180v160Zm440 0h160v-160H620v160Z\"/>\n",
              "  </svg>\n",
              "    </button>\n",
              "\n",
              "  <style>\n",
              "    .colab-df-container {\n",
              "      display:flex;\n",
              "      gap: 12px;\n",
              "    }\n",
              "\n",
              "    .colab-df-convert {\n",
              "      background-color: #E8F0FE;\n",
              "      border: none;\n",
              "      border-radius: 50%;\n",
              "      cursor: pointer;\n",
              "      display: none;\n",
              "      fill: #1967D2;\n",
              "      height: 32px;\n",
              "      padding: 0 0 0 0;\n",
              "      width: 32px;\n",
              "    }\n",
              "\n",
              "    .colab-df-convert:hover {\n",
              "      background-color: #E2EBFA;\n",
              "      box-shadow: 0px 1px 2px rgba(60, 64, 67, 0.3), 0px 1px 3px 1px rgba(60, 64, 67, 0.15);\n",
              "      fill: #174EA6;\n",
              "    }\n",
              "\n",
              "    .colab-df-buttons div {\n",
              "      margin-bottom: 4px;\n",
              "    }\n",
              "\n",
              "    [theme=dark] .colab-df-convert {\n",
              "      background-color: #3B4455;\n",
              "      fill: #D2E3FC;\n",
              "    }\n",
              "\n",
              "    [theme=dark] .colab-df-convert:hover {\n",
              "      background-color: #434B5C;\n",
              "      box-shadow: 0px 1px 3px 1px rgba(0, 0, 0, 0.15);\n",
              "      filter: drop-shadow(0px 1px 2px rgba(0, 0, 0, 0.3));\n",
              "      fill: #FFFFFF;\n",
              "    }\n",
              "  </style>\n",
              "\n",
              "    <script>\n",
              "      const buttonEl =\n",
              "        document.querySelector('#df-38e41376-9153-4aea-87b7-9d11754b091c button.colab-df-convert');\n",
              "      buttonEl.style.display =\n",
              "        google.colab.kernel.accessAllowed ? 'block' : 'none';\n",
              "\n",
              "      async function convertToInteractive(key) {\n",
              "        const element = document.querySelector('#df-38e41376-9153-4aea-87b7-9d11754b091c');\n",
              "        const dataTable =\n",
              "          await google.colab.kernel.invokeFunction('convertToInteractive',\n",
              "                                                    [key], {});\n",
              "        if (!dataTable) return;\n",
              "\n",
              "        const docLinkHtml = 'Like what you see? Visit the ' +\n",
              "          '<a target=\"_blank\" href=https://colab.research.google.com/notebooks/data_table.ipynb>data table notebook</a>'\n",
              "          + ' to learn more about interactive tables.';\n",
              "        element.innerHTML = '';\n",
              "        dataTable['output_type'] = 'display_data';\n",
              "        await google.colab.output.renderOutput(dataTable, element);\n",
              "        const docLink = document.createElement('div');\n",
              "        docLink.innerHTML = docLinkHtml;\n",
              "        element.appendChild(docLink);\n",
              "      }\n",
              "    </script>\n",
              "  </div>\n",
              "\n",
              "\n",
              "    <div id=\"df-f344ab23-b17f-4cf6-96dc-91ab741f6ab3\">\n",
              "      <button class=\"colab-df-quickchart\" onclick=\"quickchart('df-f344ab23-b17f-4cf6-96dc-91ab741f6ab3')\"\n",
              "                title=\"Suggest charts\"\n",
              "                style=\"display:none;\">\n",
              "\n",
              "<svg xmlns=\"http://www.w3.org/2000/svg\" height=\"24px\"viewBox=\"0 0 24 24\"\n",
              "     width=\"24px\">\n",
              "    <g>\n",
              "        <path d=\"M19 3H5c-1.1 0-2 .9-2 2v14c0 1.1.9 2 2 2h14c1.1 0 2-.9 2-2V5c0-1.1-.9-2-2-2zM9 17H7v-7h2v7zm4 0h-2V7h2v10zm4 0h-2v-4h2v4z\"/>\n",
              "    </g>\n",
              "</svg>\n",
              "      </button>\n",
              "\n",
              "<style>\n",
              "  .colab-df-quickchart {\n",
              "      --bg-color: #E8F0FE;\n",
              "      --fill-color: #1967D2;\n",
              "      --hover-bg-color: #E2EBFA;\n",
              "      --hover-fill-color: #174EA6;\n",
              "      --disabled-fill-color: #AAA;\n",
              "      --disabled-bg-color: #DDD;\n",
              "  }\n",
              "\n",
              "  [theme=dark] .colab-df-quickchart {\n",
              "      --bg-color: #3B4455;\n",
              "      --fill-color: #D2E3FC;\n",
              "      --hover-bg-color: #434B5C;\n",
              "      --hover-fill-color: #FFFFFF;\n",
              "      --disabled-bg-color: #3B4455;\n",
              "      --disabled-fill-color: #666;\n",
              "  }\n",
              "\n",
              "  .colab-df-quickchart {\n",
              "    background-color: var(--bg-color);\n",
              "    border: none;\n",
              "    border-radius: 50%;\n",
              "    cursor: pointer;\n",
              "    display: none;\n",
              "    fill: var(--fill-color);\n",
              "    height: 32px;\n",
              "    padding: 0;\n",
              "    width: 32px;\n",
              "  }\n",
              "\n",
              "  .colab-df-quickchart:hover {\n",
              "    background-color: var(--hover-bg-color);\n",
              "    box-shadow: 0 1px 2px rgba(60, 64, 67, 0.3), 0 1px 3px 1px rgba(60, 64, 67, 0.15);\n",
              "    fill: var(--button-hover-fill-color);\n",
              "  }\n",
              "\n",
              "  .colab-df-quickchart-complete:disabled,\n",
              "  .colab-df-quickchart-complete:disabled:hover {\n",
              "    background-color: var(--disabled-bg-color);\n",
              "    fill: var(--disabled-fill-color);\n",
              "    box-shadow: none;\n",
              "  }\n",
              "\n",
              "  .colab-df-spinner {\n",
              "    border: 2px solid var(--fill-color);\n",
              "    border-color: transparent;\n",
              "    border-bottom-color: var(--fill-color);\n",
              "    animation:\n",
              "      spin 1s steps(1) infinite;\n",
              "  }\n",
              "\n",
              "  @keyframes spin {\n",
              "    0% {\n",
              "      border-color: transparent;\n",
              "      border-bottom-color: var(--fill-color);\n",
              "      border-left-color: var(--fill-color);\n",
              "    }\n",
              "    20% {\n",
              "      border-color: transparent;\n",
              "      border-left-color: var(--fill-color);\n",
              "      border-top-color: var(--fill-color);\n",
              "    }\n",
              "    30% {\n",
              "      border-color: transparent;\n",
              "      border-left-color: var(--fill-color);\n",
              "      border-top-color: var(--fill-color);\n",
              "      border-right-color: var(--fill-color);\n",
              "    }\n",
              "    40% {\n",
              "      border-color: transparent;\n",
              "      border-right-color: var(--fill-color);\n",
              "      border-top-color: var(--fill-color);\n",
              "    }\n",
              "    60% {\n",
              "      border-color: transparent;\n",
              "      border-right-color: var(--fill-color);\n",
              "    }\n",
              "    80% {\n",
              "      border-color: transparent;\n",
              "      border-right-color: var(--fill-color);\n",
              "      border-bottom-color: var(--fill-color);\n",
              "    }\n",
              "    90% {\n",
              "      border-color: transparent;\n",
              "      border-bottom-color: var(--fill-color);\n",
              "    }\n",
              "  }\n",
              "</style>\n",
              "\n",
              "      <script>\n",
              "        async function quickchart(key) {\n",
              "          const quickchartButtonEl =\n",
              "            document.querySelector('#' + key + ' button');\n",
              "          quickchartButtonEl.disabled = true;  // To prevent multiple clicks.\n",
              "          quickchartButtonEl.classList.add('colab-df-spinner');\n",
              "          try {\n",
              "            const charts = await google.colab.kernel.invokeFunction(\n",
              "                'suggestCharts', [key], {});\n",
              "          } catch (error) {\n",
              "            console.error('Error during call to suggestCharts:', error);\n",
              "          }\n",
              "          quickchartButtonEl.classList.remove('colab-df-spinner');\n",
              "          quickchartButtonEl.classList.add('colab-df-quickchart-complete');\n",
              "        }\n",
              "        (() => {\n",
              "          let quickchartButtonEl =\n",
              "            document.querySelector('#df-f344ab23-b17f-4cf6-96dc-91ab741f6ab3 button');\n",
              "          quickchartButtonEl.style.display =\n",
              "            google.colab.kernel.accessAllowed ? 'block' : 'none';\n",
              "        })();\n",
              "      </script>\n",
              "    </div>\n",
              "\n",
              "    </div>\n",
              "  </div>\n"
            ],
            "application/vnd.google.colaboratory.intrinsic+json": {
              "type": "dataframe",
              "summary": "{\n  \"name\": \"df\",\n  \"rows\": 8,\n  \"fields\": [\n    {\n      \"column\": \"ID\",\n      \"properties\": {\n        \"dtype\": \"number\",\n        \"std\": 3603.743586536124,\n        \"min\": 1.0,\n        \"max\": 10000.0,\n        \"num_unique_values\": 6,\n        \"samples\": [\n          10000.0,\n          5000.5,\n          7500.25\n        ],\n        \"semantic_type\": \"\",\n        \"description\": \"\"\n      }\n    },\n    {\n      \"column\": \"Edad\",\n      \"properties\": {\n        \"dtype\": \"number\",\n        \"std\": 3522.3012958232166,\n        \"min\": 13.749581351398284,\n        \"max\": 10000.0,\n        \"num_unique_values\": 8,\n        \"samples\": [\n          41.5576,\n          41.5,\n          10000.0\n        ],\n        \"semantic_type\": \"\",\n        \"description\": \"\"\n      }\n    },\n    {\n      \"column\": \"Experiencia_Anios\",\n      \"properties\": {\n        \"dtype\": \"number\",\n        \"std\": 3528.752865701018,\n        \"min\": 0.0,\n        \"max\": 10000.0,\n        \"num_unique_values\": 8,\n        \"samples\": [\n          20.4616,\n          20.0,\n          10000.0\n        ],\n        \"semantic_type\": \"\",\n        \"description\": \"\"\n      }\n    },\n    {\n      \"column\": \"Horas_Entrenamiento_Mensual\",\n      \"properties\": {\n        \"dtype\": \"number\",\n        \"std\": 3532.1976227657738,\n        \"min\": 0.0,\n        \"max\": 10000.0,\n        \"num_unique_values\": 7,\n        \"samples\": [\n          10000.0,\n          10.0,\n          12.0\n        ],\n        \"semantic_type\": \"\",\n        \"description\": \"\"\n      }\n    },\n    {\n      \"column\": \"Salario_Mensual\",\n      \"properties\": {\n        \"dtype\": \"number\",\n        \"std\": 3155.607099476336,\n        \"min\": 1659.8963698716532,\n        \"max\": 10000.0,\n        \"num_unique_values\": 8,\n        \"samples\": [\n          5764.693974,\n          5788.975,\n          10000.0\n        ],\n        \"semantic_type\": \"\",\n        \"description\": \"\"\n      }\n    }\n  ]\n}"
            }
          },
          "metadata": {},
          "execution_count": 59
        }
      ]
    },
    {
      "cell_type": "code",
      "source": [
        "#✔ ¿Existen diferencias salariales significativas entre empleados remotos y presenciales?\n",
        "\n",
        "# Crear una copia temporal con etiquetas estandarizadas solo para el gráfico\n",
        "df_temp = df_final.copy()\n",
        "df_temp['Remoto'] = df_temp['Remoto'].str.strip().str.lower().replace({\n",
        "    'sí': 'Remoto',\n",
        "    'si': 'Remoto',\n",
        "    'remoto': 'Remoto',\n",
        "    'no': 'Presencial',\n",
        "    'presencial': 'Presencial'\n",
        "})\n",
        "\n",
        "# Calcular promedio salarial por modalidad\n",
        "salario_promedio = df_temp.groupby('Remoto')['Salario_Mensual'].mean().sort_values()\n",
        "\n",
        "# Generar el gráfico\n",
        "plt.figure(figsize=(8, 6))\n",
        "salario_promedio.plot(kind='bar', color=['#4CAF50', '#2196F3'])\n",
        "plt.title('¿Existen diferencias salariales significativas entre empleados remotos y presenciales?')\n",
        "plt.ylabel('Salario Mensual Promedio')\n",
        "plt.xlabel('Modalidad de Trabajo')\n",
        "plt.xticks(rotation=0)\n",
        "plt.grid(axis='y', linestyle='--', alpha=0.7)\n",
        "plt.tight_layout()\n",
        "plt.show()\n"
      ],
      "metadata": {
        "colab": {
          "base_uri": "https://localhost:8080/",
          "height": 607
        },
        "id": "aWgL8szRmKys",
        "outputId": "7fa8c8ed-5be1-4505-c3ab-f4960fa859dd"
      },
      "execution_count": 60,
      "outputs": [
        {
          "output_type": "display_data",
          "data": {
            "text/plain": [
              "<Figure size 800x600 with 1 Axes>"
            ],
            "image/png": "[encoded data removed]"
          },
          "metadata": {}
        }
      ]
    },
    {
      "cell_type": "markdown",
      "source": [
        "La respuesta es que no, si bien hay una diferencia, el promedio tanto de presencial como remoto no tienen una diferencia significativa."
      ],
      "metadata": {
        "id": "QAHecmUdnF6n"
      }
    },
    {
      "cell_type": "markdown",
      "source": [
        "# Fase 3 - Preparación de los datos"
      ],
      "metadata": {
        "id": "AS_erbXhhCM3"
      }
    },
    {
      "cell_type": "markdown",
      "source": [],
      "metadata": {
        "id": "8LTBty0uXsVt"
      }
    },
    {
      "cell_type": "code",
      "source": [
        "# Definir el orden de las categorías de nivel educativo\n",
        "nivel_educativo = ['Secundaria', 'Técnica', 'Universitaria', 'Postgrado']\n",
        "\n",
        "# Crear y aplicar el OrdinalEncoder\n",
        "ordinal_encoder = OrdinalEncoder(categories=[nivel_educativo])\n",
        "\n",
        "df_final['Nivel_Educativo'] = ordinal_encoder.fit_transform(df_final[['Nivel_Educativo']])\n",
        "\n",
        "# Verificar los cambios\n",
        "print(df_final['Nivel_Educativo'].head())  # Mostrar los primeros valores transformados\n",
        "\n"
      ],
      "metadata": {
        "colab": {
          "base_uri": "https://localhost:8080/"
        },
        "id": "ueATF971A0Y_",
        "outputId": "bd182e27-520d-4f58-db83-32cc3e7aa04c"
      },
      "execution_count": 61,
      "outputs": [
        {
          "output_type": "stream",
          "name": "stdout",
          "text": [
            "0    2.0\n",
            "1    2.0\n",
            "2    1.0\n",
            "3    0.0\n",
            "4    2.0\n",
            "Name: Nivel_Educativo, dtype: float64\n"
          ]
        }
      ]
    },
    {
      "cell_type": "code",
      "source": [
        "\n",
        "print(df_final['Departamento'].unique())  # Ejemplo: ['Ventas', 'IT', 'RH', 'Operaciones']\n",
        "departamentos = sorted(df_final['Departamento'].unique())  # Orden alfabético\n",
        "ordinal_encoder_dept = OrdinalEncoder(categories=[departamentos])\n",
        "df_final['Departamento'] = ordinal_encoder_dept.fit_transform(df_final[['Departamento']])\n",
        "df_final['Departamento'].head()\n"
      ],
      "metadata": {
        "id": "pihR-Nmcaw3d",
        "colab": {
          "base_uri": "https://localhost:8080/",
          "height": 258
        },
        "outputId": "c38c7b6a-7815-4f12-8de5-1bec347317c8"
      },
      "execution_count": 62,
      "outputs": [
        {
          "output_type": "stream",
          "name": "stdout",
          "text": [
            "['Marketing' 'TI' 'Finanzas' 'Ventas' 'Recursos Humanos']\n"
          ]
        },
        {
          "output_type": "execute_result",
          "data": {
            "text/plain": [
              "0    1.0\n",
              "1    3.0\n",
              "2    3.0\n",
              "3    0.0\n",
              "4    1.0\n",
              "Name: Departamento, dtype: float64"
            ],
            "text/html": [
              "<div>\n",
              "<style scoped>\n",
              "    .dataframe tbody tr th:only-of-type {\n",
              "        vertical-align: middle;\n",
              "    }\n",
              "\n",
              "    .dataframe tbody tr th {\n",
              "        vertical-align: top;\n",
              "    }\n",
              "\n",
              "    .dataframe thead th {\n",
              "        text-align: right;\n",
              "    }\n",
              "</style>\n",
              "<table border=\"1\" class=\"dataframe\">\n",
              "  <thead>\n",
              "    <tr style=\"text-align: right;\">\n",
              "      <th></th>\n",
              "      <th>Departamento</th>\n",
              "    </tr>\n",
              "  </thead>\n",
              "  <tbody>\n",
              "    <tr>\n",
              "      <th>0</th>\n",
              "      <td>1.0</td>\n",
              "    </tr>\n",
              "    <tr>\n",
              "      <th>1</th>\n",
              "      <td>3.0</td>\n",
              "    </tr>\n",
              "    <tr>\n",
              "      <th>2</th>\n",
              "      <td>3.0</td>\n",
              "    </tr>\n",
              "    <tr>\n",
              "      <th>3</th>\n",
              "      <td>0.0</td>\n",
              "    </tr>\n",
              "    <tr>\n",
              "      <th>4</th>\n",
              "      <td>1.0</td>\n",
              "    </tr>\n",
              "  </tbody>\n",
              "</table>\n",
              "</div><br><label><b>dtype:</b> float64</label>"
            ]
          },
          "metadata": {},
          "execution_count": 62
        }
      ]
    },
    {
      "cell_type": "code",
      "source": [
        "\n",
        "satisfaccion = ['Baja', 'Media', 'Alta', 'Muy Alta']  # Asegúrate de que coincidan con los datos\n",
        "\n",
        "ordinal_encoder_sat = OrdinalEncoder(categories=[satisfaccion])\n",
        "df_final['Satisfaccion_Laboral'] = ordinal_encoder_sat.fit_transform(df_final[['Satisfaccion_Laboral']])\n",
        "df_final['Satisfaccion_Laboral'].head()\n"
      ],
      "metadata": {
        "colab": {
          "base_uri": "https://localhost:8080/",
          "height": 241
        },
        "id": "QwQ74g1pnspd",
        "outputId": "38e9c776-0f80-4ae2-93f1-f223d0af7d7e"
      },
      "execution_count": 63,
      "outputs": [
        {
          "output_type": "execute_result",
          "data": {
            "text/plain": [
              "0    2.0\n",
              "1    3.0\n",
              "2    1.0\n",
              "3    2.0\n",
              "4    2.0\n",
              "Name: Satisfaccion_Laboral, dtype: float64"
            ],
            "text/html": [
              "<div>\n",
              "<style scoped>\n",
              "    .dataframe tbody tr th:only-of-type {\n",
              "        vertical-align: middle;\n",
              "    }\n",
              "\n",
              "    .dataframe tbody tr th {\n",
              "        vertical-align: top;\n",
              "    }\n",
              "\n",
              "    .dataframe thead th {\n",
              "        text-align: right;\n",
              "    }\n",
              "</style>\n",
              "<table border=\"1\" class=\"dataframe\">\n",
              "  <thead>\n",
              "    <tr style=\"text-align: right;\">\n",
              "      <th></th>\n",
              "      <th>Satisfaccion_Laboral</th>\n",
              "    </tr>\n",
              "  </thead>\n",
              "  <tbody>\n",
              "    <tr>\n",
              "      <th>0</th>\n",
              "      <td>2.0</td>\n",
              "    </tr>\n",
              "    <tr>\n",
              "      <th>1</th>\n",
              "      <td>3.0</td>\n",
              "    </tr>\n",
              "    <tr>\n",
              "      <th>2</th>\n",
              "      <td>1.0</td>\n",
              "    </tr>\n",
              "    <tr>\n",
              "      <th>3</th>\n",
              "      <td>2.0</td>\n",
              "    </tr>\n",
              "    <tr>\n",
              "      <th>4</th>\n",
              "      <td>2.0</td>\n",
              "    </tr>\n",
              "  </tbody>\n",
              "</table>\n",
              "</div><br><label><b>dtype:</b> float64</label>"
            ]
          },
          "metadata": {},
          "execution_count": 63
        }
      ]
    },
    {
      "cell_type": "code",
      "source": [
        "# Versión correcta (usa llaves {} y verifica el valor exacto en tus datos)\n",
        "df_final['Remoto'] = df_final['Remoto'].map({'Sí': 1, 'No': 0})  # Asegúrate de que 'Sí' coincida con tus datos\n",
        "\n",
        "# Verificación\n",
        "print(df_final['Remoto'].unique())"
      ],
      "metadata": {
        "colab": {
          "base_uri": "https://localhost:8080/"
        },
        "id": "-w-tphALpMB0",
        "outputId": "ec2466e6-5233-41e2-f855-0234b0de71f7"
      },
      "execution_count": 64,
      "outputs": [
        {
          "output_type": "stream",
          "name": "stdout",
          "text": [
            "[1 0]\n"
          ]
        }
      ]
    },
    {
      "cell_type": "code",
      "source": [
        "print(df_final.head())"
      ],
      "metadata": {
        "colab": {
          "base_uri": "https://localhost:8080/"
        },
        "id": "PFH7jClFrZV1",
        "outputId": "f54ec2fb-8e9e-4464-cf56-965de930fe66"
      },
      "execution_count": 65,
      "outputs": [
        {
          "output_type": "stream",
          "name": "stdout",
          "text": [
            "   Edad  Nivel_Educativo  Experiencia_Anios  Departamento  \\\n",
            "0    56              2.0                 38           1.0   \n",
            "1    46              2.0                 23           3.0   \n",
            "2    32              1.0                 13           3.0   \n",
            "3    60              0.0                 37           0.0   \n",
            "4    25              2.0                  7           1.0   \n",
            "\n",
            "   Horas_Entrenamiento_Mensual  Satisfaccion_Laboral  Remoto  Salario_Mensual  \n",
            "0                           11                   2.0       1          8230.50  \n",
            "1                           17                   3.0       0          6375.40  \n",
            "2                            8                   1.0       0          4883.02  \n",
            "3                            7                   2.0       0          6739.09  \n",
            "4                            8                   2.0       1          4729.60  \n"
          ]
        }
      ]
    },
    {
      "cell_type": "markdown",
      "source": [
        "# Fase 4 - Modelamiento"
      ],
      "metadata": {
        "id": "rIEaoSMBhPkR"
      }
    },
    {
      "cell_type": "markdown",
      "source": [
        "En este trabajo escogeremos las variables que podrian influir en una en concreto.\n",
        "\n",
        "El sueldo seria nuestra variable dependiente. La variable a estudiar.\n",
        "\n",
        "En este caso escogeremos Edad, Nivel_Educativo, Experiencia_Anios, Horas_Entrenamiento_Mensual\n",
        "\n",
        "Edad la eligiremos ya que es una variable que podria representar experiencia del tabajador.\n",
        "\n",
        "Nivel_Educativo se escoge ya que es la variable que dependiendo de su grado educacional se infiere que podria afectar a su sueldo.\n",
        "\n",
        "Experiencia_Anios se escoge ya que a medida de que tenga más años de experiencia podria llegar a tener un mayor sueldo.\n",
        "\n",
        "Horas_Entrenamiento_Mensual ya que podria sugerir que a mayor cantidad de horas de entrenamiento más capaz y por lo tanto podria tener un mayor sueldo."
      ],
      "metadata": {
        "id": "fgaXdbny0Mnr"
      }
    },
    {
      "cell_type": "code",
      "source": [
        "# Preparación de datos\n",
        "\n",
        "y = df_final['Salario_Mensual']\n",
        "\n",
        "x_selected = df_final[['Edad', 'Nivel_Educativo', 'Experiencia_Anios', 'Horas_Entrenamiento_Mensual']]\n",
        "\n",
        "x_all_but_y = df_final.drop(columns=['Salario_Mensual'])\n",
        "\n",
        "x_train, x_test, y_train, y_test = train_test_split(x_all_but_y, y, test_size=0.2, random_state=42)\n",
        "x_selected_train, x_selected_test, _, _ = train_test_split(x_selected, y, test_size=0.2, random_state=42)\n"
      ],
      "metadata": {
        "id": "21NHr1a62St2"
      },
      "execution_count": 67,
      "outputs": []
    },
    {
      "cell_type": "markdown",
      "source": [
        "## Considerando la totalidad de características disponibles\n",
        "\n",
        "---\n",
        "\n"
      ],
      "metadata": {
        "id": "PfgSCq6FpdJ1"
      }
    },
    {
      "cell_type": "code",
      "source": [
        "\n",
        "#Linear Regression\n",
        "\n",
        "lr_model_all = LinearRegression()\n",
        "lr_model_all.fit(x_train, y_train)\n",
        "\n",
        "y_pred_lr_train_all = lr_model_all.predict(x_train)\n",
        "y_pred_lr_all = lr_model_all.predict(x_test)\n",
        "\n",
        "r2_train_lr_all = r2_score(y_train, y_pred_lr_train_all)\n",
        "r2_test_lr_all = r2_score(y_test, y_pred_lr_all)\n",
        "\n",
        "mae_all_training = mean_absolute_error(y_train, y_pred_lr_train_all)\n",
        "msle_all_training = mean_squared_log_error(y_train, y_pred_lr_train_all)\n",
        "\n",
        "#DecisionTree Regressor\n",
        "# Modelo con todas las variables\n",
        "dt_model_all = DecisionTreeRegressor(random_state=42)\n",
        "dt_model_all.fit(x_train, y_train)\n",
        "y_pred_dt_train_all = dt_model_all.predict(x_train)\n",
        "y_pred_dt_all = dt_model_all.predict(x_test)\n",
        "\n",
        "\n",
        "#Random Forest Regressor\n",
        "#Modelo con todas las variables\n",
        "rf_model_all = RandomForestRegressor(random_state=42)\n",
        "rf_model_all.fit(x_train, y_train)\n",
        "y_pred_rf_train_all = rf_model_all.predict(x_train)\n",
        "y_pred_rf_all = rf_model_all.predict(x_test)\n",
        "\n"
      ],
      "metadata": {
        "id": "CN-iFdla4gFP"
      },
      "execution_count": 76,
      "outputs": []
    },
    {
      "cell_type": "markdown",
      "source": [
        "## Con selección de características por parte del equipo"
      ],
      "metadata": {
        "id": "bZtt3xbIpiJF"
      }
    },
    {
      "cell_type": "code",
      "source": [
        "# Linear Regression\n",
        "lr_model_sel = LinearRegression()\n",
        "lr_model_sel.fit(x_selected_train, y_train)  # Usando x_selected_train (features seleccionadas)\n",
        "y_pred_lr_train_sel = lr_model_sel.predict(x_selected_train)\n",
        "y_pred_lr_sel = lr_model_sel.predict(x_selected_test)\n",
        "\n",
        "#DecisionTree Regressor\n",
        "dt_model_sel = DecisionTreeRegressor(random_state=42)\n",
        "dt_model_sel.fit(x_selected_train, y_train)\n",
        "y_pred_dt_train_sel = dt_model_sel.predict(x_selected_train)\n",
        "y_pred_dt_sel = dt_model_sel.predict(x_selected_test)\n",
        "\n",
        "#Random Forest Regressor\n",
        "rf_model_sel = RandomForestRegressor(random_state=42)\n",
        "rf_model_sel.fit(x_selected_train, y_train)\n",
        "y_pred_rf_train_sel = rf_model_sel.predict(x_selected_train)\n",
        "y_pred_rf_sel = rf_model_sel.predict(x_selected_test)\n",
        "\n",
        "\n",
        "#Cálculo de métricas para todos los modelos\n",
        "#Linear Regression\n",
        "r2_train_lr_all = r2_score(y_train, y_pred_lr_train_all)\n",
        "r2_test_lr_all = r2_score(y_test, y_pred_lr_all)\n",
        "mae_lr_all = mean_absolute_error(y_test, y_pred_lr_all)\n",
        "\n",
        "r2_train_lr_sel = r2_score(y_train, y_pred_lr_train_sel)\n",
        "r2_test_lr_sel = r2_score(y_test, y_pred_lr_sel)\n",
        "mae_lr_sel = mean_absolute_error(y_test, y_pred_lr_sel)\n",
        "\n",
        "#Decision Tree\n",
        "r2_train_dt_all = r2_score(y_train, y_pred_dt_train_all)\n",
        "r2_test_dt_all = r2_score(y_test, y_pred_dt_all)\n",
        "mae_dt_all = mean_absolute_error(y_test, y_pred_dt_all)\n",
        "\n",
        "r2_train_dt_sel = r2_score(y_train, y_pred_dt_train_sel)\n",
        "r2_test_dt_sel = r2_score(y_test, y_pred_dt_sel)\n",
        "mae_dt_sel = mean_absolute_error(y_test, y_pred_dt_sel)\n",
        "\n",
        "#Random Forest\n",
        "r2_train_rf_all = r2_score(y_train, y_pred_rf_train_all)\n",
        "r2_test_rf_all = r2_score(y_test, y_pred_rf_all)\n",
        "mae_rf_all = mean_absolute_error(y_test, y_pred_rf_all)\n",
        "\n",
        "r2_train_rf_sel = r2_score(y_train, y_pred_rf_train_sel)\n",
        "r2_test_rf_sel = r2_score(y_test, y_pred_rf_sel)\n",
        "mae_rf_sel = mean_absolute_error(y_test, y_pred_rf_sel)\n",
        "\n"
      ],
      "metadata": {
        "id": "RVerCDVH8xgJ"
      },
      "execution_count": 80,
      "outputs": []
    },
    {
      "cell_type": "code",
      "source": [],
      "metadata": {
        "colab": {
          "base_uri": "https://localhost:8080/",
          "height": 255
        },
        "id": "ETWovlBTA1O8",
        "outputId": "b6ebc47a-d485-4d14-e588-9a9ed6c783e7"
      },
      "execution_count": 83,
      "outputs": [
        {
          "output_type": "display_data",
          "data": {
            "text/plain": [
              "<pandas.io.formats.style.Styler at 0x7becfcfc4f50>"
            ],
            "text/html": [
              "<style type=\"text/css\">\n",
              "#T_510f5_row0_col2 {\n",
              "  background-color: lightgreen;\n",
              "}\n",
              "#T_510f5_row0_col3 {\n",
              "  background-color: lightcoral;\n",
              "}\n",
              "</style>\n",
              "<table id=\"T_510f5\" class=\"dataframe\">\n",
              "  <caption>Comparación de Modelos de Regresión</caption>\n",
              "  <thead>\n",
              "    <tr>\n",
              "      <th class=\"blank level0\" >&nbsp;</th>\n",
              "      <th id=\"T_510f5_level0_col0\" class=\"col_heading level0 col0\" >Modelo</th>\n",
              "      <th id=\"T_510f5_level0_col1\" class=\"col_heading level0 col1\" >R2 Train</th>\n",
              "      <th id=\"T_510f5_level0_col2\" class=\"col_heading level0 col2\" >R2 Test</th>\n",
              "      <th id=\"T_510f5_level0_col3\" class=\"col_heading level0 col3\" >MAE Test</th>\n",
              "      <th id=\"T_510f5_level0_col4\" class=\"col_heading level0 col4\" >Overfitting</th>\n",
              "    </tr>\n",
              "  </thead>\n",
              "  <tbody>\n",
              "    <tr>\n",
              "      <th id=\"T_510f5_level0_row0\" class=\"row_heading level0 row0\" >0</th>\n",
              "      <td id=\"T_510f5_row0_col0\" class=\"data row0 col0\" >Linear Regression - Todas Variables</td>\n",
              "      <td id=\"T_510f5_row0_col1\" class=\"data row0 col1\" >0.9671</td>\n",
              "      <td id=\"T_510f5_row0_col2\" class=\"data row0 col2\" >0.9696</td>\n",
              "      <td id=\"T_510f5_row0_col3\" class=\"data row0 col3\" >234.07</td>\n",
              "      <td id=\"T_510f5_row0_col4\" class=\"data row0 col4\" >No</td>\n",
              "    </tr>\n",
              "    <tr>\n",
              "      <th id=\"T_510f5_level0_row1\" class=\"row_heading level0 row1\" >1</th>\n",
              "      <td id=\"T_510f5_row1_col0\" class=\"data row1 col0\" >Linear Regression - Variables Seleccionadas</td>\n",
              "      <td id=\"T_510f5_row1_col1\" class=\"data row1 col1\" >0.9530</td>\n",
              "      <td id=\"T_510f5_row1_col2\" class=\"data row1 col2\" >0.9541</td>\n",
              "      <td id=\"T_510f5_row1_col3\" class=\"data row1 col3\" >287.02</td>\n",
              "      <td id=\"T_510f5_row1_col4\" class=\"data row1 col4\" >No</td>\n",
              "    </tr>\n",
              "    <tr>\n",
              "      <th id=\"T_510f5_level0_row2\" class=\"row_heading level0 row2\" >2</th>\n",
              "      <td id=\"T_510f5_row2_col0\" class=\"data row2 col0\" >Decision Tree - Todas Variables</td>\n",
              "      <td id=\"T_510f5_row2_col1\" class=\"data row2 col1\" >0.9996</td>\n",
              "      <td id=\"T_510f5_row2_col2\" class=\"data row2 col2\" >0.9288</td>\n",
              "      <td id=\"T_510f5_row2_col3\" class=\"data row2 col3\" >357.72</td>\n",
              "      <td id=\"T_510f5_row2_col4\" class=\"data row2 col4\" >No</td>\n",
              "    </tr>\n",
              "    <tr>\n",
              "      <th id=\"T_510f5_level0_row3\" class=\"row_heading level0 row3\" >3</th>\n",
              "      <td id=\"T_510f5_row3_col0\" class=\"data row3 col0\" >Decision Tree - Variables Seleccionadas</td>\n",
              "      <td id=\"T_510f5_row3_col1\" class=\"data row3 col1\" >0.9863</td>\n",
              "      <td id=\"T_510f5_row3_col2\" class=\"data row3 col2\" >0.9184</td>\n",
              "      <td id=\"T_510f5_row3_col3\" class=\"data row3 col3\" >384.68</td>\n",
              "      <td id=\"T_510f5_row3_col4\" class=\"data row3 col4\" >No</td>\n",
              "    </tr>\n",
              "    <tr>\n",
              "      <th id=\"T_510f5_level0_row4\" class=\"row_heading level0 row4\" >4</th>\n",
              "      <td id=\"T_510f5_row4_col0\" class=\"data row4 col0\" >Random Forest - Todas Variables</td>\n",
              "      <td id=\"T_510f5_row4_col1\" class=\"data row4 col1\" >0.9939</td>\n",
              "      <td id=\"T_510f5_row4_col2\" class=\"data row4 col2\" >0.9621</td>\n",
              "      <td id=\"T_510f5_row4_col3\" class=\"data row4 col3\" >262.68</td>\n",
              "      <td id=\"T_510f5_row4_col4\" class=\"data row4 col4\" >No</td>\n",
              "    </tr>\n",
              "    <tr>\n",
              "      <th id=\"T_510f5_level0_row5\" class=\"row_heading level0 row5\" >5</th>\n",
              "      <td id=\"T_510f5_row5_col0\" class=\"data row5 col0\" >Random Forest - Variables Seleccionadas</td>\n",
              "      <td id=\"T_510f5_row5_col1\" class=\"data row5 col1\" >0.9817</td>\n",
              "      <td id=\"T_510f5_row5_col2\" class=\"data row5 col2\" >0.9412</td>\n",
              "      <td id=\"T_510f5_row5_col3\" class=\"data row5 col3\" >327.14</td>\n",
              "      <td id=\"T_510f5_row5_col4\" class=\"data row5 col4\" >No</td>\n",
              "    </tr>\n",
              "  </tbody>\n",
              "</table>\n"
            ]
          },
          "metadata": {}
        }
      ]
    },
    {
      "cell_type": "markdown",
      "source": [
        "# Fase 5 - Evaluación"
      ],
      "metadata": {
        "id": "Qmw0039lnrwF"
      }
    },
    {
      "cell_type": "code",
      "source": [
        "#Creación de tabla comparativa\n",
        "resultados = {\n",
        "'Modelo': [\n",
        "'Linear Regression - Todas Variables',\n",
        "'Linear Regression - Variables Seleccionadas',\n",
        "'Decision Tree - Todas Variables',\n",
        "'Decision Tree - Variables Seleccionadas',\n",
        "'Random Forest - Todas Variables',\n",
        "'Random Forest - Variables Seleccionadas'\n",
        "],\n",
        "'R2 Train': [\n",
        "r2_train_lr_all,\n",
        "r2_train_lr_sel,\n",
        "r2_train_dt_all,\n",
        "r2_train_dt_sel,\n",
        "r2_train_rf_all,\n",
        "r2_train_rf_sel\n",
        "],\n",
        "'R2 Test': [\n",
        "r2_test_lr_all,\n",
        "r2_test_lr_sel,\n",
        "r2_test_dt_all,\n",
        "r2_test_dt_sel,\n",
        "r2_test_rf_all,\n",
        "r2_test_rf_sel\n",
        "],\n",
        "'MAE Test': [\n",
        "mae_lr_all,\n",
        "mae_lr_sel,\n",
        "mae_dt_all,\n",
        "mae_dt_sel,\n",
        "mae_rf_all,\n",
        "mae_rf_sel\n",
        "],\n",
        "'Overfitting': [\n",
        "'Sí' if abs(r2_train_lr_all - r2_test_lr_all) > 0.1 else 'No',\n",
        "'Sí' if abs(r2_train_lr_sel - r2_test_lr_sel) > 0.1 else 'No',\n",
        "'Sí' if abs(r2_train_dt_all - r2_test_dt_all) > 0.1 else 'No',\n",
        "'Sí' if abs(r2_train_dt_sel - r2_test_dt_sel) > 0.1 else 'No',\n",
        "'Sí' if abs(r2_train_rf_all - r2_test_rf_all) > 0.1 else 'No',\n",
        "'Sí' if abs(r2_train_rf_sel - r2_test_rf_sel) > 0.1 else 'No'\n",
        "]\n",
        "}\n",
        "\n",
        "tabla_resultados = pd.DataFrame(resultados)\n",
        "\n",
        "#Mostrar tabla con formato\n",
        "display(\n",
        "tabla_resultados.style\n",
        ".set_caption(\"Comparación de Modelos de Regresión\")\n",
        ".format({\n",
        "'R2 Train': '{:.4f}',\n",
        "'R2 Test': '{:.4f}',\n",
        "'MAE Test': '{:.2f}'\n",
        "})\n",
        ".highlight_max(subset=['R2 Test'], color='lightgreen')\n",
        ".highlight_min(subset=['MAE Test'], color='lightcoral')\n",
        ")"
      ],
      "metadata": {
        "colab": {
          "base_uri": "https://localhost:8080/",
          "height": 255
        },
        "id": "4CKq8U2RKBdO",
        "outputId": "ae5254fa-3e7c-40c3-e5e8-168c4d7478e1"
      },
      "execution_count": 84,
      "outputs": [
        {
          "output_type": "display_data",
          "data": {
            "text/plain": [
              "<pandas.io.formats.style.Styler at 0x7becf7d8de50>"
            ],
            "text/html": [
              "<style type=\"text/css\">\n",
              "#T_dce3c_row0_col2 {\n",
              "  background-color: lightgreen;\n",
              "}\n",
              "#T_dce3c_row0_col3 {\n",
              "  background-color: lightcoral;\n",
              "}\n",
              "</style>\n",
              "<table id=\"T_dce3c\" class=\"dataframe\">\n",
              "  <caption>Comparación de Modelos de Regresión</caption>\n",
              "  <thead>\n",
              "    <tr>\n",
              "      <th class=\"blank level0\" >&nbsp;</th>\n",
              "      <th id=\"T_dce3c_level0_col0\" class=\"col_heading level0 col0\" >Modelo</th>\n",
              "      <th id=\"T_dce3c_level0_col1\" class=\"col_heading level0 col1\" >R2 Train</th>\n",
              "      <th id=\"T_dce3c_level0_col2\" class=\"col_heading level0 col2\" >R2 Test</th>\n",
              "      <th id=\"T_dce3c_level0_col3\" class=\"col_heading level0 col3\" >MAE Test</th>\n",
              "      <th id=\"T_dce3c_level0_col4\" class=\"col_heading level0 col4\" >Overfitting</th>\n",
              "    </tr>\n",
              "  </thead>\n",
              "  <tbody>\n",
              "    <tr>\n",
              "      <th id=\"T_dce3c_level0_row0\" class=\"row_heading level0 row0\" >0</th>\n",
              "      <td id=\"T_dce3c_row0_col0\" class=\"data row0 col0\" >Linear Regression - Todas Variables</td>\n",
              "      <td id=\"T_dce3c_row0_col1\" class=\"data row0 col1\" >0.9671</td>\n",
              "      <td id=\"T_dce3c_row0_col2\" class=\"data row0 col2\" >0.9696</td>\n",
              "      <td id=\"T_dce3c_row0_col3\" class=\"data row0 col3\" >234.07</td>\n",
              "      <td id=\"T_dce3c_row0_col4\" class=\"data row0 col4\" >No</td>\n",
              "    </tr>\n",
              "    <tr>\n",
              "      <th id=\"T_dce3c_level0_row1\" class=\"row_heading level0 row1\" >1</th>\n",
              "      <td id=\"T_dce3c_row1_col0\" class=\"data row1 col0\" >Linear Regression - Variables Seleccionadas</td>\n",
              "      <td id=\"T_dce3c_row1_col1\" class=\"data row1 col1\" >0.9530</td>\n",
              "      <td id=\"T_dce3c_row1_col2\" class=\"data row1 col2\" >0.9541</td>\n",
              "      <td id=\"T_dce3c_row1_col3\" class=\"data row1 col3\" >287.02</td>\n",
              "      <td id=\"T_dce3c_row1_col4\" class=\"data row1 col4\" >No</td>\n",
              "    </tr>\n",
              "    <tr>\n",
              "      <th id=\"T_dce3c_level0_row2\" class=\"row_heading level0 row2\" >2</th>\n",
              "      <td id=\"T_dce3c_row2_col0\" class=\"data row2 col0\" >Decision Tree - Todas Variables</td>\n",
              "      <td id=\"T_dce3c_row2_col1\" class=\"data row2 col1\" >0.9996</td>\n",
              "      <td id=\"T_dce3c_row2_col2\" class=\"data row2 col2\" >0.9288</td>\n",
              "      <td id=\"T_dce3c_row2_col3\" class=\"data row2 col3\" >357.72</td>\n",
              "      <td id=\"T_dce3c_row2_col4\" class=\"data row2 col4\" >No</td>\n",
              "    </tr>\n",
              "    <tr>\n",
              "      <th id=\"T_dce3c_level0_row3\" class=\"row_heading level0 row3\" >3</th>\n",
              "      <td id=\"T_dce3c_row3_col0\" class=\"data row3 col0\" >Decision Tree - Variables Seleccionadas</td>\n",
              "      <td id=\"T_dce3c_row3_col1\" class=\"data row3 col1\" >0.9863</td>\n",
              "      <td id=\"T_dce3c_row3_col2\" class=\"data row3 col2\" >0.9184</td>\n",
              "      <td id=\"T_dce3c_row3_col3\" class=\"data row3 col3\" >384.68</td>\n",
              "      <td id=\"T_dce3c_row3_col4\" class=\"data row3 col4\" >No</td>\n",
              "    </tr>\n",
              "    <tr>\n",
              "      <th id=\"T_dce3c_level0_row4\" class=\"row_heading level0 row4\" >4</th>\n",
              "      <td id=\"T_dce3c_row4_col0\" class=\"data row4 col0\" >Random Forest - Todas Variables</td>\n",
              "      <td id=\"T_dce3c_row4_col1\" class=\"data row4 col1\" >0.9939</td>\n",
              "      <td id=\"T_dce3c_row4_col2\" class=\"data row4 col2\" >0.9621</td>\n",
              "      <td id=\"T_dce3c_row4_col3\" class=\"data row4 col3\" >262.68</td>\n",
              "      <td id=\"T_dce3c_row4_col4\" class=\"data row4 col4\" >No</td>\n",
              "    </tr>\n",
              "    <tr>\n",
              "      <th id=\"T_dce3c_level0_row5\" class=\"row_heading level0 row5\" >5</th>\n",
              "      <td id=\"T_dce3c_row5_col0\" class=\"data row5 col0\" >Random Forest - Variables Seleccionadas</td>\n",
              "      <td id=\"T_dce3c_row5_col1\" class=\"data row5 col1\" >0.9817</td>\n",
              "      <td id=\"T_dce3c_row5_col2\" class=\"data row5 col2\" >0.9412</td>\n",
              "      <td id=\"T_dce3c_row5_col3\" class=\"data row5 col3\" >327.14</td>\n",
              "      <td id=\"T_dce3c_row5_col4\" class=\"data row5 col4\" >No</td>\n",
              "    </tr>\n",
              "  </tbody>\n",
              "</table>\n"
            ]
          },
          "metadata": {}
        }
      ]
    },
    {
      "cell_type": "markdown",
      "source": [
        "#1. Rendimiento Superior (R² Test = 0.9696)\n",
        "El modelo de Linear Regression con todas las variables destaca como el mejor, con un R² de 0.9696 en el conjunto de prueba. Esto significa que explica el 96.96% de la variabilidad en los salarios, superando a todos los demás modelos (incluyendo Random Forest y Decision Tree). Su capacidad predictiva es casi perfecta, lo que indica que las relaciones lineales capturadas entre las variables predictoras y el salario son altamente significativas.\n",
        "\n",
        "#2. Precisión en Predicciones (MAE Test = 234.07)\n",
        "Error Absoluto Medio (MAE): Con un valor de 234.07, este modelo comete el menor error promedio ($234) en sus predicciones, comparado con:\n",
        "\n",
        "Random Forest (MAE = 262.68).\n",
        "\n",
        "Decision Tree (MAE = 357.72).\n",
        "\n",
        "#3. Ausencia de Overfitting (Diferencia R² Train-Test = 0.0025)\n",
        "R² Train (0.9671) vs. R² Test (0.9696): La diferencia es mínima (0.0025), muy por debajo del umbral de 0.1 que indicaría overfitting.\n",
        "\n",
        "Implicación: El modelo generaliza excelentemente a datos no vistos, sin sacrificar rendimiento por adaptarse demasiado a los datos de entrenamiento."
      ],
      "metadata": {
        "id": "7c6hBdoHKDzI"
      }
    },
    {
      "cell_type": "markdown",
      "source": [
        "## Carga de archivo JSON con datos completamente nuevos"
      ],
      "metadata": {
        "id": "QTrCTphhrDdo"
      }
    },
    {
      "cell_type": "code",
      "source": [
        "# 1. Cargar datos nuevos desde URL JSON\n",
        "import requests\n",
        "response = requests.get('https://raw.githubusercontent.com/dicodinap/entrega-2-ia/refs/heads/main/data_nueva.json')\n",
        "data = response.json()\n",
        "\n",
        "# 2. Convertir a DataFrame y asegurar mismas columnas que X_all\n",
        "df_nuevos = pd.DataFrame(data)\n",
        "df_nuevos = df_nuevos[x_all_but_y.columns]  # Usar tus variables predictoras originales\n",
        "\n",
        "# 3. Cargar modelo pre-entrenado (simulación)\n",
        "# (En tu caso real, usarías tu modelo ya entrenado: lr_model_all)\n",
        "lr_model_all = LinearRegression()  # Esto es solo para ejemplo - usa tu modelo real\n",
        "lr_model_all.fit(x_train, y_train)  # Eliminar esta línea en producción\n",
        "\n",
        "# 4. Realizar predicciones\n",
        "predicciones = lr_model_all.predict(df_nuevos)\n",
        "\n",
        "# 5. Agregar predicciones al DataFrame\n",
        "df_nuevos['Prediccion_Salario_Mensual'] = predicciones\n"
      ],
      "metadata": {
        "id": "NUhxgFa6MZDS"
      },
      "execution_count": 93,
      "outputs": []
    },
    {
      "cell_type": "markdown",
      "source": [
        "## Generación de JSON con las predicciones del mejor modelo"
      ],
      "metadata": {
        "id": "p7oX-Pb1rOSs"
      }
    },
    {
      "cell_type": "code",
      "source": [
        "# 6. Guardar resultados en JSON\n",
        "df_nuevos.to_json('predicciones_salarios.json', orient='records', indent=4)\n",
        "\n",
        "print(\"¡Predicciones generadas con éxito! Ver archivo 'predicciones_salarios.json'\")"
      ],
      "metadata": {
        "colab": {
          "base_uri": "https://localhost:8080/"
        },
        "id": "XFGeN1bqMtpb",
        "outputId": "64f32b32-fa41-4a68-efb7-5a589f6f1827"
      },
      "execution_count": 94,
      "outputs": [
        {
          "output_type": "stream",
          "name": "stdout",
          "text": [
            "¡Predicciones generadas con éxito! Ver archivo 'predicciones_salarios.json'\n"
          ]
        }
      ]
    }
  ]
}